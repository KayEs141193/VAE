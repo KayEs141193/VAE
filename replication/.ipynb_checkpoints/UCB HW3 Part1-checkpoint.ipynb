{
 "cells": [
  {
   "cell_type": "markdown",
   "metadata": {},
   "source": [
    "## UC Berkley Homework 3 Part 1 Solution\n",
    "\n",
    "Based on <b>CS 294-158 Deep Unsupervised Learning</b><br>\n",
    "Reference Repository: https://github.com/rll/deepul"
   ]
  },
  {
   "cell_type": "code",
   "execution_count": null,
   "metadata": {},
   "outputs": [],
   "source": [
    "'''\n",
    "!if [ -d VAE ]; then rm -Rf VAE; fi\n",
    "!git clone https://github.com/KayEs141193/VAE.git\n",
    "!pip install ./VAE\n",
    "'''"
   ]
  },
  {
   "cell_type": "code",
   "execution_count": 1,
   "metadata": {},
   "outputs": [],
   "source": [
    "import numpy as np\n",
    "import torch\n",
    "import torch.optim as optim\n",
    "from torch.utils.data import DataLoader\n",
    "import ignite\n",
    "from ignite.engine import Engine, Events\n",
    "from VAE.models import VanillaVAE\n",
    "from VAE.utils import print_and_collect, plot_results\n",
    "from VAE.trainer import create_basic_trainer, create_basic_evaluator"
   ]
  },
  {
   "cell_type": "code",
   "execution_count": 2,
   "metadata": {},
   "outputs": [],
   "source": [
    "cuda = torch.cuda.is_available()\n",
    "device = torch.device(\"cuda\" if cuda else \"cpu\")\n",
    "\n",
    "num_workers = 8 if cuda else 0 "
   ]
  },
  {
   "cell_type": "code",
   "execution_count": 3,
   "metadata": {},
   "outputs": [],
   "source": [
    "# Given data generation code\n",
    "\n",
    "def sample_data_1():\n",
    "    count = 100000\n",
    "    rand = np.random.RandomState(0)\n",
    "    return [[1.0, 2.0]] + rand.randn(count, 2) * [[5.0, 1.0]]\n",
    "\n",
    "def sample_data_2():\n",
    "    count = 100000\n",
    "    rand = np.random.RandomState(0)\n",
    "    return [[1.0, 2.0]] + (rand.randn(count, 2) * [[5.0, 1.0]]).dot([[np.sqrt(2) / 2, np.sqrt(2) / 2], [-np.sqrt(2) / 2, np.sqrt(2) / 2]])\n",
    "\n",
    "def sample_data_3():\n",
    "    count = 100000\n",
    "    rand = np.random.RandomState(0)\n",
    "    a = [[-1.5, 2.5]] + rand.randn(count // 3, 2) * 0.2\n",
    "    b = [[1.5, 2.5]] + rand.randn(count // 3, 2) * 0.2\n",
    "    c = np.c_[2 * np.cos(np.linspace(0, np.pi, count // 3)),\n",
    "    -np.sin(np.linspace(0, np.pi, count // 3))]\n",
    "\n",
    "    c += rand.randn(*c.shape) * 0.2\n",
    "    data_x = np.concatenate([a, b, c], axis=0)\n",
    "    data_y = np.array([0] * len(a) + [1] * len(b) + [2] * len(c))\n",
    "    perm = rand.permutation(len(data_x))\n",
    "    return data_x[perm], data_y[perm]\n",
    "\n",
    "# Setup datasets\n",
    "\n",
    "data1 = sample_data_1()\n",
    "data2 = sample_data_2()\n",
    "data3 = sample_data_3()"
   ]
  },
  {
   "cell_type": "code",
   "execution_count": 4,
   "metadata": {},
   "outputs": [],
   "source": [
    "# Solution code\n",
    "\n",
    "def plot(train_hist,val_hist,data,model):\n",
    "    \n",
    "    plt.figure(figsize=(24,6))\n",
    "    \n",
    "    # plot performance results\n",
    "    plt.subplot(1,3,1)\n",
    "    plot_results(train_hist,val_hist)\n",
    "    \n",
    "    # plot original dataset\n",
    "    plt.subplot(1,3,2)\n",
    "    plt.scatter(data[:,0],data[:,1])\n",
    "    plt.title('Sample Data')\n",
    "    plt.xlabel('X1')\n",
    "    plt.ylabel('X2')\n",
    "    \n",
    "    # plot sample points\n",
    "    x_noisy = model.sample(1000,True).to('cpu').detach().numpy()\n",
    "    x_noiseless = model.sample(1000,False).to('cpu').detach().numpy()\n",
    "    \n",
    "    plt.subplot(1,3,3)\n",
    "    plt.scatter(x_noisy[:,0],x_noisy[:,1],label='gen_noisy',alpha=0.5)\n",
    "    plt.scatter(x_noiseless[:,0],x_noiseless[:,1],label='gen_noiseless',alpha=0.5)\n",
    "    plt.legend()\n",
    "    plt.title('Generated Samples')\n",
    "    plt.xlabel('X1')\n",
    "    plt.ylabel('X2')\n",
    "    \n",
    "def solution(data,batch_size,input_dim,latent_dim,hiddens_enc,hiddens_dec,lr,epochs):\n",
    "    \n",
    "    N = int(len(data)*0.8)\n",
    "    \n",
    "    # setup dataloaders\n",
    "    train_loader = DataLoader(torch.tensor(data[:N],dtype=torch.float),shuffle=True, batch_size=batch_size , num_workers=num_workers)\n",
    "    val_loader = DataLoader(torch.tensor(data[N:],dtype=torch.float),shuffle=True, batch_size=batch_size , num_workers=num_workers)\n",
    "    \n",
    "    model = VanillaVAE.construct(input_dim,latent_dim,hiddens_enc,hiddens_dec,False,False,device)\n",
    "    optimizer = optim.Adam(model.parameters(),lr=lr)\n",
    "    \n",
    "    training_history = {'recon_loss': [], 'kl_loss': [], 'elbo_loss': []}\n",
    "    validation_history = {'recon_loss': [], 'kl_loss': [], 'elbo_loss': [] }\n",
    "    \n",
    "    # create engines\n",
    "    evaluator = create_basic_evaluator(model,device)\n",
    "    trainer = create_basic_trainer(model,optimizer,device,evaluator=evaluator,val_loader=val_loader)\n",
    "    \n",
    "    # register events for printing and collecting metric results\n",
    "    trainer.add_event_handler(Events.EPOCH_COMPLETED, print_and_collect, evaluator, train_loader, 'Training', training_history)\n",
    "    trainer.add_event_handler(Events.EPOCH_COMPLETED, print_and_collect, evaluator, val_loader, 'Validation', validation_history)\n",
    "        \n",
    "    print('Run Engines\\n')\n",
    "    # run trainer\n",
    "    e = trainer.run(train_loader, max_epochs=epochs)\n",
    "    \n",
    "    return model, training_history, validation_history"
   ]
  },
  {
   "cell_type": "code",
   "execution_count": null,
   "metadata": {},
   "outputs": [],
   "source": [
    "# Dataset 1\n",
    "\n",
    "lr = 0.01\n",
    "epochs = 10\n",
    "batch_size = 8\n",
    "\n",
    "input_dim = 2\n",
    "latent_dim = 2\n",
    "\n",
    "hiddens_enc = [{'dim':2,'act':'relu','bn':False}]\n",
    "hiddens_dec = [{'dim':2,'act':'relu','bn':False}]\n",
    "\n",
    "model, training_history, validation_history = solution(data1,batch_size,input_dim,latent_dim,hiddens_enc,hiddens_dec,lr,epochs)"
   ]
  },
  {
   "cell_type": "code",
   "execution_count": null,
   "metadata": {},
   "outputs": [],
   "source": [
    "# plot results for data 1\n",
    "plot(training_history, validation_history, data1, model)"
   ]
  },
  {
   "cell_type": "code",
   "execution_count": 1,
   "metadata": {},
   "outputs": [
    {
     "ename": "NameError",
     "evalue": "name 'data1' is not defined",
     "output_type": "error",
     "traceback": [
      "\u001b[0;31m---------------------------------------------------------------------------\u001b[0m",
      "\u001b[0;31mNameError\u001b[0m                                 Traceback (most recent call last)",
      "\u001b[0;32m<ipython-input-1-4888315e4534>\u001b[0m in \u001b[0;36m<module>\u001b[0;34m\u001b[0m\n\u001b[0;32m----> 1\u001b[0;31m \u001b[0mlen\u001b[0m\u001b[0;34m(\u001b[0m\u001b[0mdata1\u001b[0m\u001b[0;34m)\u001b[0m\u001b[0;34m\u001b[0m\u001b[0;34m\u001b[0m\u001b[0m\n\u001b[0m",
      "\u001b[0;31mNameError\u001b[0m: name 'data1' is not defined"
     ]
    }
   ],
   "source": [
    "len(data1)"
   ]
  },
  {
   "cell_type": "code",
   "execution_count": null,
   "metadata": {},
   "outputs": [],
   "source": []
  }
 ],
 "metadata": {
  "kernelspec": {
   "display_name": "Python 3",
   "language": "python",
   "name": "python3"
  },
  "language_info": {
   "codemirror_mode": {
    "name": "ipython",
    "version": 3
   },
   "file_extension": ".py",
   "mimetype": "text/x-python",
   "name": "python",
   "nbconvert_exporter": "python",
   "pygments_lexer": "ipython3",
   "version": "3.7.6"
  }
 },
 "nbformat": 4,
 "nbformat_minor": 4
}
